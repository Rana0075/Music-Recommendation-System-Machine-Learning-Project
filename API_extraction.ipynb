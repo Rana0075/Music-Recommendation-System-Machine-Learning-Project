{
 "cells": [
  {
   "cell_type": "code",
   "execution_count": 6,
   "id": "c1b4f18c",
   "metadata": {},
   "outputs": [],
   "source": [
    "import spotipy\n",
    "from spotipy.oauth2 import SpotifyClientCredentials\n",
    "import json"
   ]
  },
  {
   "cell_type": "code",
   "execution_count": 7,
   "id": "5ea753ed",
   "metadata": {},
   "outputs": [],
   "source": [
    "artists = ['Bruno Mars', 'Dua Lipa' ,\n",
    " 'Zedd', 'David Guetta',\n",
    " 'Bille Eilish', 'John Legend',\n",
    " 'Mac DeMarco', 'Yot Club',\n",
    "'Kendrick Lamar', 'MF Doom',\n",
    "'Queen', 'AC/DC',\n",
    "'Brian Eno', 'Max Richter'\n",
    "'Chet Baker', 'Nina Simone',\n",
    "'Wilie Dixon', 'John Lee Hooker',\n",
    "'Lou Donaldson', 'Bill Evans Trio']\n",
    "\n"
   ]
  },
  {
   "cell_type": "code",
   "execution_count": 8,
   "id": "9a08fdd0",
   "metadata": {},
   "outputs": [],
   "source": [
    "client_id = \"b99d497d91fc4a16a0ac27ddcce614eb\"\n",
    "client_secret = \"d14051c8af1e4132a0d677ffe7095b67\""
   ]
  },
  {
   "cell_type": "code",
   "execution_count": 9,
   "id": "33f86b87",
   "metadata": {},
   "outputs": [],
   "source": [
    "sp = spotipy.Spotify(auth_manager=SpotifyClientCredentials(client_id=client_id, client_secret=client_secret))"
   ]
  },
  {
   "cell_type": "code",
   "execution_count": 10,
   "id": "f565b325",
   "metadata": {},
   "outputs": [],
   "source": [
    "album_dict = {}\n",
    "for artist in artists:\n",
    "    results = sp.search(q=f\"artist:{artist}\", type=\"album\", limit=50)\n",
    "    albums = results['albums']['items']\n",
    "    \n",
    "    album_names = [album['name'] for album in albums]\n",
    "    album_dict[artist] = album_names\n"
   ]
  },
  {
   "cell_type": "code",
   "execution_count": 6,
   "id": "cb738f3b",
   "metadata": {},
   "outputs": [],
   "source": [
    "with open(\"artist_genre_album.txt\", \"w\", encoding=\"utf-8\") as data:\n",
    "    data.write(json.dumps(album_dict))"
   ]
  },
  {
   "cell_type": "code",
   "execution_count": 8,
   "id": "c01b9e7a",
   "metadata": {},
   "outputs": [
    {
     "name": "stdout",
     "output_type": "stream",
     "text": [
      "<class 'dict'>\n"
     ]
    }
   ],
   "source": [
    "with open(\"artist_genre_album.txt\", \"r\", encoding=\"utf-8\") as data:\n",
    "    album_dict_file = json.load(data)\n",
    "    print(type(album_dict_file))"
   ]
  },
  {
   "cell_type": "code",
   "execution_count": null,
   "id": "8a6734e1",
   "metadata": {},
   "outputs": [],
   "source": []
  }
 ],
 "metadata": {
  "kernelspec": {
   "display_name": "Python 3 (ipykernel)",
   "language": "python",
   "name": "python3"
  },
  "language_info": {
   "codemirror_mode": {
    "name": "ipython",
    "version": 3
   },
   "file_extension": ".py",
   "mimetype": "text/x-python",
   "name": "python",
   "nbconvert_exporter": "python",
   "pygments_lexer": "ipython3",
   "version": "3.9.13"
  }
 },
 "nbformat": 4,
 "nbformat_minor": 5
}
