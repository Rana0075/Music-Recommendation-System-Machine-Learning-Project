{
 "cells": [
  {
   "cell_type": "code",
   "execution_count": 3,
   "id": "dacacb20",
   "metadata": {},
   "outputs": [],
   "source": [
    "import numpy as np\n",
    "import pandas as pd\n",
    "import matplotlib.pyplot as plt\n",
    "import seaborn as sns"
   ]
  },
  {
   "cell_type": "code",
   "execution_count": 4,
   "id": "c6b60df8",
   "metadata": {},
   "outputs": [],
   "source": [
    "# Load the dataset\n",
    "\n",
    "df = pd.read_csv('user_album_mood_data.csv')"
   ]
  },
  {
   "cell_type": "code",
   "execution_count": 5,
   "id": "42768a34",
   "metadata": {},
   "outputs": [
    {
     "data": {
      "text/html": [
       "<div>\n",
       "<style scoped>\n",
       "    .dataframe tbody tr th:only-of-type {\n",
       "        vertical-align: middle;\n",
       "    }\n",
       "\n",
       "    .dataframe tbody tr th {\n",
       "        vertical-align: top;\n",
       "    }\n",
       "\n",
       "    .dataframe thead th {\n",
       "        text-align: right;\n",
       "    }\n",
       "</style>\n",
       "<table border=\"1\" class=\"dataframe\">\n",
       "  <thead>\n",
       "    <tr style=\"text-align: right;\">\n",
       "      <th></th>\n",
       "      <th>user_id</th>\n",
       "      <th>mood</th>\n",
       "      <th>genre</th>\n",
       "      <th>album</th>\n",
       "      <th>artist</th>\n",
       "    </tr>\n",
       "  </thead>\n",
       "  <tbody>\n",
       "    <tr>\n",
       "      <th>0</th>\n",
       "      <td>4</td>\n",
       "      <td>happy</td>\n",
       "      <td>indie</td>\n",
       "      <td>Blues in the Night</td>\n",
       "      <td>Chopin</td>\n",
       "    </tr>\n",
       "    <tr>\n",
       "      <th>1</th>\n",
       "      <td>2</td>\n",
       "      <td>sad</td>\n",
       "      <td>classical</td>\n",
       "      <td>Symphony No. 5</td>\n",
       "      <td>Sunny Days</td>\n",
       "    </tr>\n",
       "    <tr>\n",
       "      <th>2</th>\n",
       "      <td>3</td>\n",
       "      <td>happy</td>\n",
       "      <td>pop</td>\n",
       "      <td>Live Free</td>\n",
       "      <td>Pop Star</td>\n",
       "    </tr>\n",
       "    <tr>\n",
       "      <th>3</th>\n",
       "      <td>5</td>\n",
       "      <td>happy</td>\n",
       "      <td>rock</td>\n",
       "      <td>Symphony No. 5</td>\n",
       "      <td>The Rainmakers</td>\n",
       "    </tr>\n",
       "    <tr>\n",
       "      <th>4</th>\n",
       "      <td>1</td>\n",
       "      <td>sad</td>\n",
       "      <td>pop</td>\n",
       "      <td>Dance Like Nobody's Watching</td>\n",
       "      <td>The Rainmakers</td>\n",
       "    </tr>\n",
       "    <tr>\n",
       "      <th>5</th>\n",
       "      <td>5</td>\n",
       "      <td>relaxed</td>\n",
       "      <td>jazz</td>\n",
       "      <td>Lost Dreams</td>\n",
       "      <td>Sunny Days</td>\n",
       "    </tr>\n",
       "    <tr>\n",
       "      <th>6</th>\n",
       "      <td>2</td>\n",
       "      <td>happy</td>\n",
       "      <td>classical</td>\n",
       "      <td>Blues in the Night</td>\n",
       "      <td>Pop Star</td>\n",
       "    </tr>\n",
       "    <tr>\n",
       "      <th>7</th>\n",
       "      <td>3</td>\n",
       "      <td>sad</td>\n",
       "      <td>jazz</td>\n",
       "      <td>Symphony No. 5</td>\n",
       "      <td>The Freedom Fighters</td>\n",
       "    </tr>\n",
       "    <tr>\n",
       "      <th>8</th>\n",
       "      <td>5</td>\n",
       "      <td>sad</td>\n",
       "      <td>rock</td>\n",
       "      <td>Smooth Jazz Nights</td>\n",
       "      <td>The Rainmakers</td>\n",
       "    </tr>\n",
       "    <tr>\n",
       "      <th>9</th>\n",
       "      <td>5</td>\n",
       "      <td>relaxed</td>\n",
       "      <td>classical</td>\n",
       "      <td>Nocturnes</td>\n",
       "      <td>The Rainmakers</td>\n",
       "    </tr>\n",
       "    <tr>\n",
       "      <th>10</th>\n",
       "      <td>2</td>\n",
       "      <td>happy</td>\n",
       "      <td>blues</td>\n",
       "      <td>Smooth Jazz Nights</td>\n",
       "      <td>Beethoven</td>\n",
       "    </tr>\n",
       "    <tr>\n",
       "      <th>11</th>\n",
       "      <td>2</td>\n",
       "      <td>sad</td>\n",
       "      <td>classical</td>\n",
       "      <td>Summer Vibes</td>\n",
       "      <td>DJ Beats</td>\n",
       "    </tr>\n",
       "    <tr>\n",
       "      <th>12</th>\n",
       "      <td>2</td>\n",
       "      <td>relaxed</td>\n",
       "      <td>classical</td>\n",
       "      <td>Summer Vibes</td>\n",
       "      <td>Beethoven</td>\n",
       "    </tr>\n",
       "    <tr>\n",
       "      <th>13</th>\n",
       "      <td>4</td>\n",
       "      <td>relaxed</td>\n",
       "      <td>blues</td>\n",
       "      <td>Lost Dreams</td>\n",
       "      <td>The Rainmakers</td>\n",
       "    </tr>\n",
       "    <tr>\n",
       "      <th>14</th>\n",
       "      <td>5</td>\n",
       "      <td>sad</td>\n",
       "      <td>rock</td>\n",
       "      <td>Dance Like Nobody's Watching</td>\n",
       "      <td>Pop Star</td>\n",
       "    </tr>\n",
       "    <tr>\n",
       "      <th>15</th>\n",
       "      <td>5</td>\n",
       "      <td>relaxed</td>\n",
       "      <td>classical</td>\n",
       "      <td>Nocturnes</td>\n",
       "      <td>Chopin</td>\n",
       "    </tr>\n",
       "    <tr>\n",
       "      <th>16</th>\n",
       "      <td>1</td>\n",
       "      <td>sad</td>\n",
       "      <td>rock</td>\n",
       "      <td>Shine On</td>\n",
       "      <td>The Rainmakers</td>\n",
       "    </tr>\n",
       "    <tr>\n",
       "      <th>17</th>\n",
       "      <td>3</td>\n",
       "      <td>sad</td>\n",
       "      <td>rock</td>\n",
       "      <td>Smooth Jazz Nights</td>\n",
       "      <td>The Rainmakers</td>\n",
       "    </tr>\n",
       "    <tr>\n",
       "      <th>18</th>\n",
       "      <td>2</td>\n",
       "      <td>sad</td>\n",
       "      <td>classical</td>\n",
       "      <td>Symphony No. 5</td>\n",
       "      <td>Sunny Days</td>\n",
       "    </tr>\n",
       "    <tr>\n",
       "      <th>19</th>\n",
       "      <td>1</td>\n",
       "      <td>sad</td>\n",
       "      <td>pop</td>\n",
       "      <td>Dance Like Nobody's Watching</td>\n",
       "      <td>The Dreamers</td>\n",
       "    </tr>\n",
       "  </tbody>\n",
       "</table>\n",
       "</div>"
      ],
      "text/plain": [
       "    user_id     mood      genre                         album  \\\n",
       "0         4    happy      indie            Blues in the Night   \n",
       "1         2      sad  classical                Symphony No. 5   \n",
       "2         3    happy        pop                     Live Free   \n",
       "3         5    happy       rock                Symphony No. 5   \n",
       "4         1      sad        pop  Dance Like Nobody's Watching   \n",
       "5         5  relaxed       jazz                   Lost Dreams   \n",
       "6         2    happy  classical            Blues in the Night   \n",
       "7         3      sad       jazz                Symphony No. 5   \n",
       "8         5      sad       rock            Smooth Jazz Nights   \n",
       "9         5  relaxed  classical                     Nocturnes   \n",
       "10        2    happy      blues            Smooth Jazz Nights   \n",
       "11        2      sad  classical                  Summer Vibes   \n",
       "12        2  relaxed  classical                  Summer Vibes   \n",
       "13        4  relaxed      blues                   Lost Dreams   \n",
       "14        5      sad       rock  Dance Like Nobody's Watching   \n",
       "15        5  relaxed  classical                     Nocturnes   \n",
       "16        1      sad       rock                      Shine On   \n",
       "17        3      sad       rock            Smooth Jazz Nights   \n",
       "18        2      sad  classical                Symphony No. 5   \n",
       "19        1      sad        pop  Dance Like Nobody's Watching   \n",
       "\n",
       "                  artist  \n",
       "0                 Chopin  \n",
       "1             Sunny Days  \n",
       "2               Pop Star  \n",
       "3         The Rainmakers  \n",
       "4         The Rainmakers  \n",
       "5             Sunny Days  \n",
       "6               Pop Star  \n",
       "7   The Freedom Fighters  \n",
       "8         The Rainmakers  \n",
       "9         The Rainmakers  \n",
       "10             Beethoven  \n",
       "11              DJ Beats  \n",
       "12             Beethoven  \n",
       "13        The Rainmakers  \n",
       "14              Pop Star  \n",
       "15                Chopin  \n",
       "16        The Rainmakers  \n",
       "17        The Rainmakers  \n",
       "18            Sunny Days  \n",
       "19          The Dreamers  "
      ]
     },
     "execution_count": 5,
     "metadata": {},
     "output_type": "execute_result"
    }
   ],
   "source": [
    "df"
   ]
  },
  {
   "cell_type": "code",
   "execution_count": 6,
   "id": "0e82bc80",
   "metadata": {},
   "outputs": [
    {
     "data": {
      "text/plain": [
       "<bound method DataFrame.info of     user_id     mood      genre                         album  \\\n",
       "0         4    happy      indie            Blues in the Night   \n",
       "1         2      sad  classical                Symphony No. 5   \n",
       "2         3    happy        pop                     Live Free   \n",
       "3         5    happy       rock                Symphony No. 5   \n",
       "4         1      sad        pop  Dance Like Nobody's Watching   \n",
       "5         5  relaxed       jazz                   Lost Dreams   \n",
       "6         2    happy  classical            Blues in the Night   \n",
       "7         3      sad       jazz                Symphony No. 5   \n",
       "8         5      sad       rock            Smooth Jazz Nights   \n",
       "9         5  relaxed  classical                     Nocturnes   \n",
       "10        2    happy      blues            Smooth Jazz Nights   \n",
       "11        2      sad  classical                  Summer Vibes   \n",
       "12        2  relaxed  classical                  Summer Vibes   \n",
       "13        4  relaxed      blues                   Lost Dreams   \n",
       "14        5      sad       rock  Dance Like Nobody's Watching   \n",
       "15        5  relaxed  classical                     Nocturnes   \n",
       "16        1      sad       rock                      Shine On   \n",
       "17        3      sad       rock            Smooth Jazz Nights   \n",
       "18        2      sad  classical                Symphony No. 5   \n",
       "19        1      sad        pop  Dance Like Nobody's Watching   \n",
       "\n",
       "                  artist  \n",
       "0                 Chopin  \n",
       "1             Sunny Days  \n",
       "2               Pop Star  \n",
       "3         The Rainmakers  \n",
       "4         The Rainmakers  \n",
       "5             Sunny Days  \n",
       "6               Pop Star  \n",
       "7   The Freedom Fighters  \n",
       "8         The Rainmakers  \n",
       "9         The Rainmakers  \n",
       "10             Beethoven  \n",
       "11              DJ Beats  \n",
       "12             Beethoven  \n",
       "13        The Rainmakers  \n",
       "14              Pop Star  \n",
       "15                Chopin  \n",
       "16        The Rainmakers  \n",
       "17        The Rainmakers  \n",
       "18            Sunny Days  \n",
       "19          The Dreamers  >"
      ]
     },
     "execution_count": 6,
     "metadata": {},
     "output_type": "execute_result"
    }
   ],
   "source": [
    "df.info"
   ]
  },
  {
   "cell_type": "code",
   "execution_count": 7,
   "id": "a27447ac",
   "metadata": {},
   "outputs": [
    {
     "data": {
      "text/plain": [
       "(20, 5)"
      ]
     },
     "execution_count": 7,
     "metadata": {},
     "output_type": "execute_result"
    }
   ],
   "source": [
    "df.shape"
   ]
  },
  {
   "cell_type": "code",
   "execution_count": 6,
   "id": "697d342b",
   "metadata": {},
   "outputs": [
    {
     "data": {
      "text/plain": [
       "<bound method NDFrame.describe of     user_id     mood      genre                         album  \\\n",
       "0         4    happy      indie            Blues in the Night   \n",
       "1         2      sad  classical                Symphony No. 5   \n",
       "2         3    happy        pop                     Live Free   \n",
       "3         5    happy       rock                Symphony No. 5   \n",
       "4         1      sad        pop  Dance Like Nobody's Watching   \n",
       "5         5  relaxed       jazz                   Lost Dreams   \n",
       "6         2    happy  classical            Blues in the Night   \n",
       "7         3      sad       jazz                Symphony No. 5   \n",
       "8         5      sad       rock            Smooth Jazz Nights   \n",
       "9         5  relaxed  classical                     Nocturnes   \n",
       "10        2    happy      blues            Smooth Jazz Nights   \n",
       "11        2      sad  classical                  Summer Vibes   \n",
       "12        2  relaxed  classical                  Summer Vibes   \n",
       "13        4  relaxed      blues                   Lost Dreams   \n",
       "14        5      sad       rock  Dance Like Nobody's Watching   \n",
       "15        5  relaxed  classical                     Nocturnes   \n",
       "16        1      sad       rock                      Shine On   \n",
       "17        3      sad       rock            Smooth Jazz Nights   \n",
       "18        2      sad  classical                Symphony No. 5   \n",
       "19        1      sad        pop  Dance Like Nobody's Watching   \n",
       "\n",
       "                  artist  \n",
       "0                 Chopin  \n",
       "1             Sunny Days  \n",
       "2               Pop Star  \n",
       "3         The Rainmakers  \n",
       "4         The Rainmakers  \n",
       "5             Sunny Days  \n",
       "6               Pop Star  \n",
       "7   The Freedom Fighters  \n",
       "8         The Rainmakers  \n",
       "9         The Rainmakers  \n",
       "10             Beethoven  \n",
       "11              DJ Beats  \n",
       "12             Beethoven  \n",
       "13        The Rainmakers  \n",
       "14              Pop Star  \n",
       "15                Chopin  \n",
       "16        The Rainmakers  \n",
       "17        The Rainmakers  \n",
       "18            Sunny Days  \n",
       "19          The Dreamers  >"
      ]
     },
     "execution_count": 6,
     "metadata": {},
     "output_type": "execute_result"
    }
   ],
   "source": [
    "df.describe"
   ]
  },
  {
   "cell_type": "code",
   "execution_count": 7,
   "id": "698a7848",
   "metadata": {},
   "outputs": [
    {
     "data": {
      "text/plain": [
       "user_id     int64\n",
       "mood       object\n",
       "genre      object\n",
       "album      object\n",
       "artist     object\n",
       "dtype: object"
      ]
     },
     "execution_count": 7,
     "metadata": {},
     "output_type": "execute_result"
    }
   ],
   "source": [
    "df.dtypes"
   ]
  },
  {
   "cell_type": "code",
   "execution_count": 8,
   "id": "7259dfae",
   "metadata": {},
   "outputs": [
    {
     "data": {
      "text/plain": [
       "user_id    0\n",
       "mood       0\n",
       "genre      0\n",
       "album      0\n",
       "artist     0\n",
       "dtype: int64"
      ]
     },
     "execution_count": 8,
     "metadata": {},
     "output_type": "execute_result"
    }
   ],
   "source": [
    "df.isnull().sum()"
   ]
  },
  {
   "cell_type": "code",
   "execution_count": 9,
   "id": "5f2cd0c9",
   "metadata": {},
   "outputs": [
    {
     "data": {
      "image/png": "[encoded data removed]",
      "text/plain": [
       "<Figure size 2500x2000 with 1 Axes>"
      ]
     },
     "metadata": {},
     "output_type": "display_data"
    }
   ],
   "source": [
    "df.hist(figsize=(25,20))\n",
    "plt.show()"
   ]
  },
  {
   "cell_type": "code",
   "execution_count": 10,
   "id": "e42efb31",
   "metadata": {},
   "outputs": [
    {
     "data": {
      "text/plain": [
       "Index(['user_id', 'mood', 'genre', 'album', 'artist'], dtype='object')"
      ]
     },
     "execution_count": 10,
     "metadata": {},
     "output_type": "execute_result"
    }
   ],
   "source": [
    "df.columns"
   ]
  },
  {
   "cell_type": "code",
   "execution_count": 11,
   "id": "94884387",
   "metadata": {},
   "outputs": [
    {
     "data": {
      "text/plain": [
       "array(['indie', 'classical', 'pop', 'rock', 'jazz', 'blues'], dtype=object)"
      ]
     },
     "execution_count": 11,
     "metadata": {},
     "output_type": "execute_result"
    }
   ],
   "source": [
    "df['genre'].unique()"
   ]
  },
  {
   "cell_type": "code",
   "execution_count": 13,
   "id": "9da29848",
   "metadata": {},
   "outputs": [
    {
     "data": {
      "text/plain": [
       "array(['happy', 'sad', 'relaxed'], dtype=object)"
      ]
     },
     "execution_count": 13,
     "metadata": {},
     "output_type": "execute_result"
    }
   ],
   "source": [
    "df['mood'].unique()"
   ]
  },
  {
   "cell_type": "code",
   "execution_count": 14,
   "id": "088b5c9d",
   "metadata": {},
   "outputs": [],
   "source": [
    "\n",
    "\n",
    "df['mood'] = df['mood'].astype('category').cat.codes  \n",
    "df['genre'] = df['genre'].astype('category').cat.codes  "
   ]
  },
  {
   "cell_type": "code",
   "execution_count": 15,
   "id": "bf7e89ff",
   "metadata": {},
   "outputs": [
    {
     "data": {
      "text/html": [
       "<div>\n",
       "<style scoped>\n",
       "    .dataframe tbody tr th:only-of-type {\n",
       "        vertical-align: middle;\n",
       "    }\n",
       "\n",
       "    .dataframe tbody tr th {\n",
       "        vertical-align: top;\n",
       "    }\n",
       "\n",
       "    .dataframe thead th {\n",
       "        text-align: right;\n",
       "    }\n",
       "</style>\n",
       "<table border=\"1\" class=\"dataframe\">\n",
       "  <thead>\n",
       "    <tr style=\"text-align: right;\">\n",
       "      <th></th>\n",
       "      <th>user_id</th>\n",
       "      <th>mood</th>\n",
       "      <th>genre</th>\n",
       "      <th>album</th>\n",
       "      <th>artist</th>\n",
       "    </tr>\n",
       "  </thead>\n",
       "  <tbody>\n",
       "    <tr>\n",
       "      <th>0</th>\n",
       "      <td>4</td>\n",
       "      <td>0</td>\n",
       "      <td>2</td>\n",
       "      <td>Blues in the Night</td>\n",
       "      <td>Chopin</td>\n",
       "    </tr>\n",
       "    <tr>\n",
       "      <th>1</th>\n",
       "      <td>2</td>\n",
       "      <td>2</td>\n",
       "      <td>1</td>\n",
       "      <td>Symphony No. 5</td>\n",
       "      <td>Sunny Days</td>\n",
       "    </tr>\n",
       "    <tr>\n",
       "      <th>2</th>\n",
       "      <td>3</td>\n",
       "      <td>0</td>\n",
       "      <td>4</td>\n",
       "      <td>Live Free</td>\n",
       "      <td>Pop Star</td>\n",
       "    </tr>\n",
       "    <tr>\n",
       "      <th>3</th>\n",
       "      <td>5</td>\n",
       "      <td>0</td>\n",
       "      <td>5</td>\n",
       "      <td>Symphony No. 5</td>\n",
       "      <td>The Rainmakers</td>\n",
       "    </tr>\n",
       "    <tr>\n",
       "      <th>4</th>\n",
       "      <td>1</td>\n",
       "      <td>2</td>\n",
       "      <td>4</td>\n",
       "      <td>Dance Like Nobody's Watching</td>\n",
       "      <td>The Rainmakers</td>\n",
       "    </tr>\n",
       "    <tr>\n",
       "      <th>5</th>\n",
       "      <td>5</td>\n",
       "      <td>1</td>\n",
       "      <td>3</td>\n",
       "      <td>Lost Dreams</td>\n",
       "      <td>Sunny Days</td>\n",
       "    </tr>\n",
       "    <tr>\n",
       "      <th>6</th>\n",
       "      <td>2</td>\n",
       "      <td>0</td>\n",
       "      <td>1</td>\n",
       "      <td>Blues in the Night</td>\n",
       "      <td>Pop Star</td>\n",
       "    </tr>\n",
       "    <tr>\n",
       "      <th>7</th>\n",
       "      <td>3</td>\n",
       "      <td>2</td>\n",
       "      <td>3</td>\n",
       "      <td>Symphony No. 5</td>\n",
       "      <td>The Freedom Fighters</td>\n",
       "    </tr>\n",
       "    <tr>\n",
       "      <th>8</th>\n",
       "      <td>5</td>\n",
       "      <td>2</td>\n",
       "      <td>5</td>\n",
       "      <td>Smooth Jazz Nights</td>\n",
       "      <td>The Rainmakers</td>\n",
       "    </tr>\n",
       "    <tr>\n",
       "      <th>9</th>\n",
       "      <td>5</td>\n",
       "      <td>1</td>\n",
       "      <td>1</td>\n",
       "      <td>Nocturnes</td>\n",
       "      <td>The Rainmakers</td>\n",
       "    </tr>\n",
       "    <tr>\n",
       "      <th>10</th>\n",
       "      <td>2</td>\n",
       "      <td>0</td>\n",
       "      <td>0</td>\n",
       "      <td>Smooth Jazz Nights</td>\n",
       "      <td>Beethoven</td>\n",
       "    </tr>\n",
       "    <tr>\n",
       "      <th>11</th>\n",
       "      <td>2</td>\n",
       "      <td>2</td>\n",
       "      <td>1</td>\n",
       "      <td>Summer Vibes</td>\n",
       "      <td>DJ Beats</td>\n",
       "    </tr>\n",
       "    <tr>\n",
       "      <th>12</th>\n",
       "      <td>2</td>\n",
       "      <td>1</td>\n",
       "      <td>1</td>\n",
       "      <td>Summer Vibes</td>\n",
       "      <td>Beethoven</td>\n",
       "    </tr>\n",
       "    <tr>\n",
       "      <th>13</th>\n",
       "      <td>4</td>\n",
       "      <td>1</td>\n",
       "      <td>0</td>\n",
       "      <td>Lost Dreams</td>\n",
       "      <td>The Rainmakers</td>\n",
       "    </tr>\n",
       "    <tr>\n",
       "      <th>14</th>\n",
       "      <td>5</td>\n",
       "      <td>2</td>\n",
       "      <td>5</td>\n",
       "      <td>Dance Like Nobody's Watching</td>\n",
       "      <td>Pop Star</td>\n",
       "    </tr>\n",
       "    <tr>\n",
       "      <th>15</th>\n",
       "      <td>5</td>\n",
       "      <td>1</td>\n",
       "      <td>1</td>\n",
       "      <td>Nocturnes</td>\n",
       "      <td>Chopin</td>\n",
       "    </tr>\n",
       "    <tr>\n",
       "      <th>16</th>\n",
       "      <td>1</td>\n",
       "      <td>2</td>\n",
       "      <td>5</td>\n",
       "      <td>Shine On</td>\n",
       "      <td>The Rainmakers</td>\n",
       "    </tr>\n",
       "    <tr>\n",
       "      <th>17</th>\n",
       "      <td>3</td>\n",
       "      <td>2</td>\n",
       "      <td>5</td>\n",
       "      <td>Smooth Jazz Nights</td>\n",
       "      <td>The Rainmakers</td>\n",
       "    </tr>\n",
       "    <tr>\n",
       "      <th>18</th>\n",
       "      <td>2</td>\n",
       "      <td>2</td>\n",
       "      <td>1</td>\n",
       "      <td>Symphony No. 5</td>\n",
       "      <td>Sunny Days</td>\n",
       "    </tr>\n",
       "    <tr>\n",
       "      <th>19</th>\n",
       "      <td>1</td>\n",
       "      <td>2</td>\n",
       "      <td>4</td>\n",
       "      <td>Dance Like Nobody's Watching</td>\n",
       "      <td>The Dreamers</td>\n",
       "    </tr>\n",
       "  </tbody>\n",
       "</table>\n",
       "</div>"
      ],
      "text/plain": [
       "    user_id  mood  genre                         album                artist\n",
       "0         4     0      2            Blues in the Night                Chopin\n",
       "1         2     2      1                Symphony No. 5            Sunny Days\n",
       "2         3     0      4                     Live Free              Pop Star\n",
       "3         5     0      5                Symphony No. 5        The Rainmakers\n",
       "4         1     2      4  Dance Like Nobody's Watching        The Rainmakers\n",
       "5         5     1      3                   Lost Dreams            Sunny Days\n",
       "6         2     0      1            Blues in the Night              Pop Star\n",
       "7         3     2      3                Symphony No. 5  The Freedom Fighters\n",
       "8         5     2      5            Smooth Jazz Nights        The Rainmakers\n",
       "9         5     1      1                     Nocturnes        The Rainmakers\n",
       "10        2     0      0            Smooth Jazz Nights             Beethoven\n",
       "11        2     2      1                  Summer Vibes              DJ Beats\n",
       "12        2     1      1                  Summer Vibes             Beethoven\n",
       "13        4     1      0                   Lost Dreams        The Rainmakers\n",
       "14        5     2      5  Dance Like Nobody's Watching              Pop Star\n",
       "15        5     1      1                     Nocturnes                Chopin\n",
       "16        1     2      5                      Shine On        The Rainmakers\n",
       "17        3     2      5            Smooth Jazz Nights        The Rainmakers\n",
       "18        2     2      1                Symphony No. 5            Sunny Days\n",
       "19        1     2      4  Dance Like Nobody's Watching          The Dreamers"
      ]
     },
     "execution_count": 15,
     "metadata": {},
     "output_type": "execute_result"
    }
   ],
   "source": [
    "df"
   ]
  },
  {
   "cell_type": "code",
   "execution_count": null,
   "id": "20836907",
   "metadata": {},
   "outputs": [],
   "source": [
    "#Model training"
   ]
  },
  {
   "cell_type": "code",
   "execution_count": 1,
   "id": "d191127f",
   "metadata": {},
   "outputs": [],
   "source": [
    "from sklearn.model_selection import train_test_split\n",
    "from sklearn.metrics import confusion_matrix"
   ]
  },
  {
   "cell_type": "code",
   "execution_count": 8,
   "id": "3d22d88c",
   "metadata": {},
   "outputs": [],
   "source": [
    "x = df[['mood', 'genre']]\n",
    "y = df['artist']"
   ]
  },
  {
   "cell_type": "code",
   "execution_count": 9,
   "id": "77e2d529",
   "metadata": {},
   "outputs": [],
   "source": [
    "# Splitting the dataset into training and testing sets\n",
    "xtrain, xtest, ytrain, ytest = train_test_split(x, y, test_size=0.2, random_state=2)\n"
   ]
  },
  {
   "cell_type": "code",
   "execution_count": 14,
   "id": "7be34fd2",
   "metadata": {},
   "outputs": [],
   "source": [
    "from sklearn.ensemble import RandomForestClassifier\n"
   ]
  },
  {
   "cell_type": "code",
   "execution_count": null,
   "id": "9a22e892",
   "metadata": {},
   "outputs": [],
   "source": [
    "rfc = RandomForestClassifier()\n",
    "rfc.fit(xtrain,ytrain)"
   ]
  },
  {
   "cell_type": "code",
   "execution_count": null,
   "id": "c96ed6c7",
   "metadata": {},
   "outputs": [],
   "source": [
    "# Predicting the artist based on mood and genre.\n",
    "def predict_artist(mood, genre):\n",
    "    new_input = pd.DataFrame({'mood': [mood], 'genre': [genre]})\n",
    "    predicted_artist = rfc.predict(new_input)\n",
    "    return predicted_artist[0]\n",
    "\n",
    "mood_input = 1  \n",
    "genre_input = 3 \n",
    "\n",
    "predicted_artist = predict_artist(mood_input, genre_input)\n",
    "print(\"Predicted Artist:\",predicted_artist)\n",
    "\n",
    "\n",
    "\n"
   ]
  },
  {
   "cell_type": "code",
   "execution_count": null,
   "id": "d828cad6",
   "metadata": {},
   "outputs": [],
   "source": [
    "# Finding 3 popular albums for the predicted artist.\n",
    "\n",
    "def get_popular_albums(artist):\n",
    "    popular_albums = df[df['artist'] == artist]['album'].value_counts().nlargest(3)\n",
    "    return popular_albums\n",
    "\n",
    "popular_albums = get_popular_albums(predicted_artist)\n",
    "\n",
    "if not popular_albums.empty:\n",
    "    print(\"Popular albums of the predicted artist:\")\n",
    "    for album, count in popular_albums.items():\n",
    "        print(f\"{album} (Count: {count})\")\n",
    "else:\n",
    "    print(\"No albums found for the predicted artist:\",predicted_artist)"
   ]
  }
 ],
 "metadata": {
  "kernelspec": {
   "display_name": "Python 3 (ipykernel)",
   "language": "python",
   "name": "python3"
  },
  "language_info": {
   "codemirror_mode": {
    "name": "ipython",
    "version": 3
   },
   "file_extension": ".py",
   "mimetype": "text/x-python",
   "name": "python",
   "nbconvert_exporter": "python",
   "pygments_lexer": "ipython3",
   "version": "3.12.1"
  }
 },
 "nbformat": 4,
 "nbformat_minor": 5
}
